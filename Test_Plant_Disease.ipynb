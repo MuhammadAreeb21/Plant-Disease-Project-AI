{
 "cells": [
  {
   "cell_type": "code",
   "execution_count": 4,
   "id": "de2b88b1-8ec2-475a-bc1b-eb1142b363a2",
   "metadata": {},
   "outputs": [],
   "source": [
    "import numpy as np\n",
    "import tensorflow as tf\n",
    "import matplotlib.pyplot as plt"
   ]
  },
  {
   "cell_type": "code",
   "execution_count": 5,
   "id": "d271b7db-9026-450d-be54-46ebeed26a67",
   "metadata": {},
   "outputs": [],
   "source": [
    "model = tf.keras.models.load_model('trained_model.keras')"
   ]
  },
  {
   "cell_type": "code",
   "execution_count": 6,
   "id": "f5b195ff-11c2-47fa-9b1c-dfc9f4a215bd",
   "metadata": {},
   "outputs": [
    {
     "name": "stdout",
     "output_type": "stream",
     "text": [
      "(1, 128, 128, 3)\n"
     ]
    }
   ],
   "source": [
    "import tensorflow as tf\n",
    "import numpy as np\n",
    "\n",
    "image_path = r'test\\Corn-(maize)-healthy.jpg'\n",
    "image = tf.keras.preprocessing.image.load_img(image_path, target_size=(128, 128))\n",
    "input_arr = tf.keras.preprocessing.image.img_to_array(image)\n",
    "input_arr = np.array([input_arr])\n",
    "print(input_arr.shape)"
   ]
  },
  {
   "cell_type": "code",
   "execution_count": 7,
   "id": "fb3844d7-5ca9-46f5-a9d0-184099cd652d",
   "metadata": {},
   "outputs": [
    {
     "name": "stdout",
     "output_type": "stream",
     "text": [
      "\u001b[1m1/1\u001b[0m \u001b[32m━━━━━━━━━━━━━━━━━━━━\u001b[0m\u001b[37m\u001b[0m \u001b[1m1s\u001b[0m 1s/step\n"
     ]
    },
    {
     "data": {
      "text/plain": [
       "(array([[1.1322239e-15, 1.0074264e-18, 1.2000627e-21, 1.6241673e-18,\n",
       "         2.1776863e-15, 3.8895451e-14, 2.1203449e-16, 5.9404669e-15,\n",
       "         3.9109037e-13, 1.4076522e-14, 9.9999988e-01, 2.5271363e-21,\n",
       "         4.4357104e-17, 1.2893786e-18, 1.9817153e-17, 3.5037379e-14,\n",
       "         6.8765344e-17, 1.3661732e-19, 2.6067146e-17, 3.1865392e-15,\n",
       "         3.0573345e-20, 1.3157849e-22, 4.4191466e-15, 3.0768532e-18,\n",
       "         1.0429653e-16, 2.7124348e-11, 2.7113597e-18, 2.1775838e-14,\n",
       "         1.5291243e-20, 6.6180097e-20, 1.4071618e-07, 2.6651470e-22,\n",
       "         4.3783820e-18, 3.4069254e-24, 2.9655546e-20, 2.4864824e-16,\n",
       "         6.2760101e-23, 1.9434521e-17]], dtype=float32),\n",
       " (1, 38))"
      ]
     },
     "execution_count": 7,
     "metadata": {},
     "output_type": "execute_result"
    }
   ],
   "source": [
    "prediction = model.predict(input_arr)\n",
    "prediction, prediction.shape"
   ]
  },
  {
   "cell_type": "code",
   "execution_count": 8,
   "id": "626b1475-f64a-4ac6-a74a-fe2d6584d9d7",
   "metadata": {},
   "outputs": [
    {
     "data": {
      "text/plain": [
       "np.int64(10)"
      ]
     },
     "execution_count": 8,
     "metadata": {},
     "output_type": "execute_result"
    }
   ],
   "source": [
    "result_index =np.argmax(prediction)\n",
    "result_index"
   ]
  },
  {
   "cell_type": "code",
   "execution_count": 10,
   "id": "ecdea296-ac2e-4f75-9298-ce31799062bd",
   "metadata": {},
   "outputs": [],
   "source": [
    "#Some other metrics for evaluation\n",
    "class_name =['Apple___Apple_scab',\n",
    " 'Apple___Black_rot',\n",
    " 'Apple___Cedar_apple_rust',\n",
    " 'Apple___healthy',\n",
    " 'Blueberry___healthy',\n",
    " 'Cherry_(including_sour)___Powdery_mildew',\n",
    " 'Cherry_(including_sour)___healthy',\n",
    " 'Corn_(maize)___Cercospora_leaf_spot Gray_leaf_spot',\n",
    " 'Corn_(maize)___Common_rust_',\n",
    " 'Corn_(maize)___Northern_Leaf_Blight',\n",
    " 'Corn_(maize)___healthy',\n",
    " 'Grape___Black_rot',\n",
    " 'Grape___Esca_(Black_Measles)',\n",
    " 'Grape___Leaf_blight_(Isariopsis_Leaf_Spot)',\n",
    " 'Grape___healthy',\n",
    " 'Orange___Haunglongbing_(Citrus_greening)',\n",
    " 'Peach___Bacterial_spot',\n",
    " 'Peach___healthy',\n",
    " 'Pepper,_bell___Bacterial_spot',\n",
    " 'Pepper,_bell___healthy',\n",
    " 'Potato___Early_blight',\n",
    " 'Potato___Late_blight',\n",
    " 'Potato___healthy',\n",
    " 'Raspberry___healthy',\n",
    " 'Soybean___healthy',\n",
    " 'Squash___Powdery_mildew',\n",
    " 'Strawberry___Leaf_scorch',\n",
    " 'Strawberry___healthy',\n",
    " 'Tomato___Bacterial_spot',\n",
    " 'Tomato___Early_blight',\n",
    " 'Tomato___Late_blight',\n",
    " 'Tomato___Leaf_Mold',\n",
    " 'Tomato___Septoria_leaf_spot',\n",
    " 'Tomato___Spider_mites Two-spotted_spider_mite',\n",
    " 'Tomato___Target_Spot',\n",
    " 'Tomato___Tomato_Yellow_Leaf_Curl_Virus',\n",
    " 'Tomato___Tomato_mosaic_virus',\n",
    " 'Tomato___healthy']"
   ]
  },
  {
   "cell_type": "code",
   "execution_count": 11,
   "id": "f0f7823a-6425-416d-a6a3-e33654be767a",
   "metadata": {},
   "outputs": [
    {
     "data": {
      "text/plain": [
       "'Corn_(maize)___healthy'"
      ]
     },
     "execution_count": 11,
     "metadata": {},
     "output_type": "execute_result"
    }
   ],
   "source": [
    "model_prediction = class_name[result_index]\n",
    "model_prediction"
   ]
  },
  {
   "cell_type": "code",
   "execution_count": null,
   "id": "928574c6-41d6-4180-930a-7cc46e5808d8",
   "metadata": {},
   "outputs": [],
   "source": []
  }
 ],
 "metadata": {
  "kernelspec": {
   "display_name": "Python 3 (ipykernel)",
   "language": "python",
   "name": "python3"
  },
  "language_info": {
   "codemirror_mode": {
    "name": "ipython",
    "version": 3
   },
   "file_extension": ".py",
   "mimetype": "text/x-python",
   "name": "python",
   "nbconvert_exporter": "python",
   "pygments_lexer": "ipython3",
   "version": "3.12.5"
  }
 },
 "nbformat": 4,
 "nbformat_minor": 5
}
